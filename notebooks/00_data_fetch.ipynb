{
 "cells": [
  {
   "cell_type": "code",
   "execution_count": 1,
   "id": "15e2b261",
   "metadata": {},
   "outputs": [],
   "source": [
    "import requests\n",
    "import pandas as pd\n",
    "import time"
   ]
  },
  {
   "cell_type": "code",
   "execution_count": 3,
   "id": "6a9f6dd6",
   "metadata": {},
   "outputs": [
    {
     "name": "stdout",
     "output_type": "stream",
     "text": [
      "Total récupéré : 0\n"
     ]
    },
    {
     "name": "stderr",
     "output_type": "stream",
     "text": [
      "c:\\Users\\pablo.sastre-garau\\AppData\\Local\\Programs\\Python\\Python313\\Lib\\site-packages\\urllib3\\connectionpool.py:1097: InsecureRequestWarning: Unverified HTTPS request is being made to host 'api.utmb.world'. Adding certificate verification is strongly advised. See: https://urllib3.readthedocs.io/en/latest/advanced-usage.html#tls-warnings\n",
      "  warnings.warn(\n"
     ]
    }
   ],
   "source": [
    "# paramètres de la requête\n",
    "limit = 100\n",
    "offset = 0\n",
    "gender = ''  # 'F' ou 'M' possible aussi\n",
    "base_url = \"https://api.utmb.world/races/142.hokautmbmont-blancutmb.2024/results\"\n",
    "\n",
    "all_results = []\n",
    "\n",
    "while True:\n",
    "    url = f\"{base_url}?lang=fr&offset={offset}&limit={limit}&gender={gender}\"\n",
    "    response = requests.get(url, verify=False)\n",
    "    if response.status_code != 200:\n",
    "        print(f\"Erreur {response.status_code} à l'offset {offset}\")\n",
    "        break\n",
    "    \n",
    "    data = response.json()\n",
    "    runners = data.get(\"items\", [])\n",
    "    \n",
    "    if not runners:\n",
    "        break\n",
    "\n",
    "    all_results.extend(runners)\n",
    "    offset += limit\n",
    "    time.sleep(0.5)  # pause pour éviter de spammer l’API\n",
    "\n",
    "print(f\"Total récupéré : {len(all_results)}\")\n",
    "\n",
    "# Transformation en DataFrame\n",
    "# df = pd.DataFrame(all_results)\n",
    "\n",
    "# df.to_csv(\"../data/raw/utmb_2024_results.csv\", index=False)\n"
   ]
  }
 ],
 "metadata": {
  "kernelspec": {
   "display_name": "Python 3",
   "language": "python",
   "name": "python3"
  },
  "language_info": {
   "codemirror_mode": {
    "name": "ipython",
    "version": 3
   },
   "file_extension": ".py",
   "mimetype": "text/x-python",
   "name": "python",
   "nbconvert_exporter": "python",
   "pygments_lexer": "ipython3",
   "version": "3.13.2"
  }
 },
 "nbformat": 4,
 "nbformat_minor": 5
}
